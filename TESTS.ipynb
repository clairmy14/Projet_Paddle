{
 "cells": [
  {
   "cell_type": "code",
   "execution_count": 19,
   "metadata": {},
   "outputs": [],
   "source": [
    "import streamlit as st\n",
    "from PIL import Image \n",
    "import pandas as pd\n",
    "from bibliotheque.lib import *\n",
    "from bibliotheque.base_donnees import *\n",
    "from plotly import graph_objects as go\n",
    "from plotly.offline import iplot\n",
    "import numpy as np\n",
    "import matplotlib.pyplot as plt"
   ]
  },
  {
   "cell_type": "code",
   "execution_count": 50,
   "metadata": {},
   "outputs": [
    {
     "data": {
      "application/vnd.plotly.v1+json": {
       "config": {
        "linkText": "Export to plot.ly",
        "plotlyServerURL": "https://plot.ly",
        "showLink": false
       },
       "data": [
        {
         "type": "bar",
         "x": [
          "Femme",
          "Homme"
         ],
         "y": [
          3,
          5
         ]
        }
       ],
       "layout": {
        "template": {
         "data": {
          "candlestick": [
           {
            "decreasing": {
             "line": {
              "color": "#000033"
             }
            },
            "increasing": {
             "line": {
              "color": "#000032"
             }
            },
            "type": "candlestick"
           }
          ],
          "contour": [
           {
            "colorscale": [
             [
              0,
              "#000011"
             ],
             [
              0.1111111111111111,
              "#000012"
             ],
             [
              0.2222222222222222,
              "#000013"
             ],
             [
              0.3333333333333333,
              "#000014"
             ],
             [
              0.4444444444444444,
              "#000015"
             ],
             [
              0.5555555555555556,
              "#000016"
             ],
             [
              0.6666666666666666,
              "#000017"
             ],
             [
              0.7777777777777778,
              "#000018"
             ],
             [
              0.8888888888888888,
              "#000019"
             ],
             [
              1,
              "#000020"
             ]
            ],
            "type": "contour"
           }
          ],
          "contourcarpet": [
           {
            "colorscale": [
             [
              0,
              "#000011"
             ],
             [
              0.1111111111111111,
              "#000012"
             ],
             [
              0.2222222222222222,
              "#000013"
             ],
             [
              0.3333333333333333,
              "#000014"
             ],
             [
              0.4444444444444444,
              "#000015"
             ],
             [
              0.5555555555555556,
              "#000016"
             ],
             [
              0.6666666666666666,
              "#000017"
             ],
             [
              0.7777777777777778,
              "#000018"
             ],
             [
              0.8888888888888888,
              "#000019"
             ],
             [
              1,
              "#000020"
             ]
            ],
            "type": "contourcarpet"
           }
          ],
          "heatmap": [
           {
            "colorscale": [
             [
              0,
              "#000011"
             ],
             [
              0.1111111111111111,
              "#000012"
             ],
             [
              0.2222222222222222,
              "#000013"
             ],
             [
              0.3333333333333333,
              "#000014"
             ],
             [
              0.4444444444444444,
              "#000015"
             ],
             [
              0.5555555555555556,
              "#000016"
             ],
             [
              0.6666666666666666,
              "#000017"
             ],
             [
              0.7777777777777778,
              "#000018"
             ],
             [
              0.8888888888888888,
              "#000019"
             ],
             [
              1,
              "#000020"
             ]
            ],
            "type": "heatmap"
           }
          ],
          "histogram2d": [
           {
            "colorscale": [
             [
              0,
              "#000011"
             ],
             [
              0.1111111111111111,
              "#000012"
             ],
             [
              0.2222222222222222,
              "#000013"
             ],
             [
              0.3333333333333333,
              "#000014"
             ],
             [
              0.4444444444444444,
              "#000015"
             ],
             [
              0.5555555555555556,
              "#000016"
             ],
             [
              0.6666666666666666,
              "#000017"
             ],
             [
              0.7777777777777778,
              "#000018"
             ],
             [
              0.8888888888888888,
              "#000019"
             ],
             [
              1,
              "#000020"
             ]
            ],
            "type": "histogram2d"
           }
          ],
          "icicle": [
           {
            "textfont": {
             "color": "white"
            },
            "type": "icicle"
           }
          ],
          "sankey": [
           {
            "textfont": {
             "color": "#000036"
            },
            "type": "sankey"
           }
          ],
          "scatter": [
           {
            "marker": {
             "line": {
              "width": 0
             }
            },
            "type": "scatter"
           }
          ],
          "table": [
           {
            "cells": {
             "fill": {
              "color": "#000038"
             },
             "font": {
              "color": "#000037"
             },
             "line": {
              "color": "#000039"
             }
            },
            "header": {
             "fill": {
              "color": "#000040"
             },
             "font": {
              "color": "#000036"
             },
             "line": {
              "color": "#000039"
             }
            },
            "type": "table"
           }
          ],
          "waterfall": [
           {
            "connector": {
             "line": {
              "color": "#000036",
              "width": 2
             }
            },
            "decreasing": {
             "marker": {
              "color": "#000033"
             }
            },
            "increasing": {
             "marker": {
              "color": "#000032"
             }
            },
            "totals": {
             "marker": {
              "color": "#000034"
             }
            },
            "type": "waterfall"
           }
          ]
         },
         "layout": {
          "coloraxis": {
           "colorscale": [
            [
             0,
             "#000011"
            ],
            [
             0.1111111111111111,
             "#000012"
            ],
            [
             0.2222222222222222,
             "#000013"
            ],
            [
             0.3333333333333333,
             "#000014"
            ],
            [
             0.4444444444444444,
             "#000015"
            ],
            [
             0.5555555555555556,
             "#000016"
            ],
            [
             0.6666666666666666,
             "#000017"
            ],
            [
             0.7777777777777778,
             "#000018"
            ],
            [
             0.8888888888888888,
             "#000019"
            ],
            [
             1,
             "#000020"
            ]
           ]
          },
          "colorscale": {
           "diverging": [
            [
             0,
             "#000021"
            ],
            [
             0.1,
             "#000022"
            ],
            [
             0.2,
             "#000023"
            ],
            [
             0.3,
             "#000024"
            ],
            [
             0.4,
             "#000025"
            ],
            [
             0.5,
             "#000026"
            ],
            [
             0.6,
             "#000027"
            ],
            [
             0.7,
             "#000028"
            ],
            [
             0.8,
             "#000029"
            ],
            [
             0.9,
             "#000030"
            ],
            [
             1,
             "#000031"
            ]
           ],
           "sequential": [
            [
             0,
             "#000011"
            ],
            [
             0.1111111111111111,
             "#000012"
            ],
            [
             0.2222222222222222,
             "#000013"
            ],
            [
             0.3333333333333333,
             "#000014"
            ],
            [
             0.4444444444444444,
             "#000015"
            ],
            [
             0.5555555555555556,
             "#000016"
            ],
            [
             0.6666666666666666,
             "#000017"
            ],
            [
             0.7777777777777778,
             "#000018"
            ],
            [
             0.8888888888888888,
             "#000019"
            ],
            [
             1,
             "#000020"
            ]
           ],
           "sequentialminus": [
            [
             0,
             "#000011"
            ],
            [
             0.1111111111111111,
             "#000012"
            ],
            [
             0.2222222222222222,
             "#000013"
            ],
            [
             0.3333333333333333,
             "#000014"
            ],
            [
             0.4444444444444444,
             "#000015"
            ],
            [
             0.5555555555555556,
             "#000016"
            ],
            [
             0.6666666666666666,
             "#000017"
            ],
            [
             0.7777777777777778,
             "#000018"
            ],
            [
             0.8888888888888888,
             "#000019"
            ],
            [
             1,
             "#000020"
            ]
           ]
          },
          "colorway": [
           "#000001",
           "#000002",
           "#000003",
           "#000004",
           "#000005",
           "#000006",
           "#000007",
           "#000008",
           "#000009",
           "#000010"
          ]
         }
        }
       }
      }
     },
     "metadata": {},
     "output_type": "display_data"
    }
   ],
   "source": [
    "rep_genre = lire_reponse(question_6())\n",
    "mon_index=[]\n",
    "mes_valeurs=[]\n",
    "for i in range (len(rep_genre)):\n",
    "    mon_index.append(rep_genre[i][0])\n",
    "    mes_valeurs.append(rep_genre[i][1])\n",
    "graph = go.Bar(x= mon_index,\n",
    "               y = mes_valeurs)\n",
    "representation = go.Figure(data = graph)\n",
    "iplot(representation)\n"
   ]
  },
  {
   "cell_type": "code",
   "execution_count": 55,
   "metadata": {},
   "outputs": [
    {
     "data": {
      "image/png": "[encoded data removed]",
      "text/plain": [
       "<Figure size 1000x600 with 1 Axes>"
      ]
     },
     "metadata": {},
     "output_type": "display_data"
    }
   ],
   "source": [
    "rep_genre = lire_reponse(question_6())\n",
    "mon_index=[]\n",
    "mes_valeurs=[]\n",
    "mon_dico = {}\n",
    "for i in range (len(rep_genre)):\n",
    "    mon_index.append(rep_genre[i][0])\n",
    "    mes_valeurs.append(rep_genre[i][1])\n",
    "    mon_dico[rep_genre[i][0]] = rep_genre[i][1]\n",
    "\n",
    "type(mon_dico)\n",
    "mon_dico\n",
    "\n",
    "df = pd.DataFrame(mon_dico, index=[\"Nombre\"]).T\n",
    "\n",
    "# plt.figure(figsize=(10,6))\n",
    "df['Nombre'].plot(kind='pie', title= 'Fruit Sales Distribution' , figsize=(10,6))\n",
    "# plt.title('Fruit Sales Distribution')\n",
    "plt.show()\n",
    "\n",
    "\n"
   ]
  },
  {
   "cell_type": "code",
   "execution_count": 3,
   "metadata": {},
   "outputs": [
    {
     "data": {
      "image/png": "[encoded data removed]",
      "text/plain": [
       "<Figure size 1000x600 with 1 Axes>"
      ]
     },
     "metadata": {},
     "output_type": "display_data"
    }
   ],
   "source": [
    "rep_ville = lire_reponse(question_2())\n",
    "mon_index=[]\n",
    "mes_valeurs=[]\n",
    "mon_dico = {}\n",
    "for i in range (len(rep_ville)):\n",
    "    mon_index.append(rep_ville[i][0])\n",
    "    mes_valeurs.append(rep_ville[i][1])\n",
    "    mon_dico[rep_ville[i][0]] = rep_ville[i][1]\n",
    "\n",
    "type(mon_dico)\n",
    "mon_dico\n",
    "\n",
    "df = pd.DataFrame(mon_dico, index=[\"Nombre\"]).T\n",
    "\n",
    "# plt.figure(figsize=(10,6))\n",
    "df['Nombre'].plot(kind='pie', title= 'Fruit Sales Distribution' , figsize=(10,6))\n",
    "# plt.title('Fruit Sales Distribution')\n",
    "plt.show()\n"
   ]
  },
  {
   "cell_type": "code",
   "execution_count": 10,
   "metadata": {},
   "outputs": [
    {
     "data": {
      "image/png": "[encoded data removed]",
      "text/plain": [
       "<Figure size 200x200 with 1 Axes>"
      ]
     },
     "metadata": {},
     "output_type": "display_data"
    }
   ],
   "source": [
    "import matplotlib.pyplot as plt\n",
    "import numpy as np\n",
    "\n",
    "plt.style.use('_mpl-gallery-nogrid')\n",
    "\n",
    "\n",
    "# make data\n",
    "x = [1, 2, 3, 4]\n",
    "colors = plt.get_cmap('Blues')(np.linspace(0.2, 0.7, len(x)))\n",
    "\n",
    "# plot\n",
    "fig, ax = plt.subplots()\n",
    "ax.pie(x, colors=colors, radius=3, center=(4, 4),\n",
    "       wedgeprops={\"linewidth\": 1, \"edgecolor\": \"white\"}, frame=True)\n",
    "\n",
    "ax.set(xlim=(0, 8), xticks=np.arange(1, 8),\n",
    "       ylim=(0, 8), yticks=np.arange(1, 8))\n",
    "\n",
    "plt.show()"
   ]
  },
  {
   "cell_type": "code",
   "execution_count": 21,
   "metadata": {},
   "outputs": [
    {
     "data": {
      "text/plain": [
       "<Axes: ylabel='Frequency'>"
      ]
     },
     "execution_count": 21,
     "metadata": {},
     "output_type": "execute_result"
    },
    {
     "data": {
      "image/png": "[encoded data removed]",
      "text/plain": [
       "<Figure size 200x200 with 1 Axes>"
      ]
     },
     "metadata": {},
     "output_type": "display_data"
    }
   ],
   "source": [
    "rep_ville = lire_reponse(question_3b())\n",
    "rep_ville\n",
    "\n",
    "\n",
    "mes_valeurs=[]\n",
    "\n",
    "for i in range (len(rep_ville)):\n",
    "    \n",
    "    mes_valeurs.append(rep_ville[i][0])\n",
    "    \n",
    "mes_valeurs\n",
    "ma_serie = pd.Series(data=mes_valeurs)\n",
    "ma_serie.plot(kind=\"hist\")"
   ]
  },
  {
   "cell_type": "code",
   "execution_count": 22,
   "metadata": {},
   "outputs": [
    {
     "data": {
      "text/plain": [
       "array([[0.81411765, 0.88392157, 0.94980392, 1.        ],\n",
       "       [0.75063437, 0.84784314, 0.92821223, 1.        ],\n",
       "       [0.66205306, 0.81019608, 0.89720877, 1.        ],\n",
       "       [0.5545098 , 0.75641676, 0.86831219, 1.        ],\n",
       "       [0.44156863, 0.69440984, 0.84395233, 1.        ],\n",
       "       [0.34646674, 0.63240292, 0.81067282, 1.        ],\n",
       "       [0.25628604, 0.57001153, 0.7751634 , 1.        ],\n",
       "       [0.17914648, 0.49287197, 0.73542484, 1.        ]])"
      ]
     },
     "execution_count": 22,
     "metadata": {},
     "output_type": "execute_result"
    }
   ],
   "source": [
    "colors = plt.get_cmap('Blues')(np.linspace(0.2, 0.7, 8))\n",
    "colors"
   ]
  },
  {
   "cell_type": "code",
   "execution_count": 28,
   "metadata": {},
   "outputs": [
    {
     "data": {
      "image/png": "[encoded data removed]",
      "text/plain": [
       "<Figure size 200x200 with 1 Axes>"
      ]
     },
     "metadata": {},
     "output_type": "display_data"
    }
   ],
   "source": [
    "import matplotlib.pyplot as plt\n",
    "import numpy as np\n",
    "\n",
    "plt.style.use('_mpl-gallery')\n",
    "\n",
    "# make data\n",
    "np.random.seed(1)\n",
    "x = 4 + np.random.normal(0, 1.5, 200)\n",
    "\n",
    "# plot:\n",
    "fig, ax = plt.subplots()\n",
    "\n",
    "ax.hist(x, bins=8, linewidth=0.5, edgecolor=\"white\")\n",
    "\n",
    "ax.set(xlim=(0, 20), xticks=np.arange(1, 14),\n",
    "       ylim=(0, 56), yticks=np.linspace(0, 100, 4))\n",
    "\n",
    "plt.show()"
   ]
  },
  {
   "cell_type": "code",
   "execution_count": 29,
   "metadata": {},
   "outputs": [],
   "source": [
    "def connecter():\n",
    "    \"\"\"\n",
    "    :name : connecter\n",
    "    :param : \n",
    "    :return : curseur et connexion nécessaires à d'autres fonctions\n",
    "    :desc : se connecter à la base et activer le curseur\n",
    "    \"\"\"\n",
    "\n",
    "    try:\n",
    "        connexion = sqlite3.connect(\"Gestion_personnel.db\")\n",
    "        curseur = connexion.cursor()\n",
    "        return curseur, connexion\n",
    "\n",
    "    except sqlite3.Error as e:\n",
    "        print(e, \"\\n\\n=====> La connexion ne s'est pas établie\")"
   ]
  },
  {
   "cell_type": "code",
   "execution_count": null,
   "metadata": {},
   "outputs": [],
   "source": []
  },
  {
   "cell_type": "code",
   "execution_count": null,
   "metadata": {},
   "outputs": [],
   "source": []
  },
  {
   "cell_type": "code",
   "execution_count": 36,
   "metadata": {},
   "outputs": [],
   "source": [
    "def question_8():\n",
    "    \n",
    "    \"\"\"\n",
    "    :name : question_8\n",
    "    :param : \n",
    "    :return : le résultat de la requête\n",
    "    :desc : afficher la liste de tous les employés de la société\n",
    "    \"\"\"\n",
    "    \n",
    "    try:\n",
    "    \n",
    "        curseur, connexion = connecter()\n",
    "\n",
    "        curseur.execute(\"\"\"\n",
    "                        SELECT id_em, nom, prenom, date_naissance, date_entree, date_sortie, genre, site\n",
    "                        FROM employes \n",
    "                            LEFT JOIN genres ON employes.id_ge = genres.id_ge\n",
    "                            LEFT JOIN sites ON employes.id_si = sites.id_si\n",
    "                        \n",
    "                        ORDER BY nom, prenom\n",
    "                        \n",
    "                        \n",
    "                        \"\"\"\n",
    "                       )\n",
    "\n",
    "        resultat = curseur.fetchall()\n",
    "        return resultat\n",
    "    \n",
    "        deconnecter(curseur,connexion)\n",
    "    \n",
    "    except sqlite3.Error as e:\n",
    "        print(e,\"\\n\\n=====> L'affichage de la réponse a échoué.\")\n",
    "        \n"
   ]
  },
  {
   "cell_type": "code",
   "execution_count": 50,
   "metadata": {},
   "outputs": [
    {
     "data": {
      "text/html": [
       "<div>\n",
       "<style scoped>\n",
       "    .dataframe tbody tr th:only-of-type {\n",
       "        vertical-align: middle;\n",
       "    }\n",
       "\n",
       "    .dataframe tbody tr th {\n",
       "        vertical-align: top;\n",
       "    }\n",
       "\n",
       "    .dataframe thead th {\n",
       "        text-align: right;\n",
       "    }\n",
       "</style>\n",
       "<table border=\"1\" class=\"dataframe\">\n",
       "  <thead>\n",
       "    <tr style=\"text-align: right;\">\n",
       "      <th></th>\n",
       "      <th>id_em</th>\n",
       "      <th>nom</th>\n",
       "      <th>prenom</th>\n",
       "      <th>date_naissance</th>\n",
       "      <th>date_entree</th>\n",
       "      <th>date_sortie</th>\n",
       "      <th>genre</th>\n",
       "      <th>site</th>\n",
       "    </tr>\n",
       "  </thead>\n",
       "  <tbody>\n",
       "    <tr>\n",
       "      <th>0</th>\n",
       "      <td>8</td>\n",
       "      <td>Bibi</td>\n",
       "      <td>Tutu</td>\n",
       "      <td>1957-07-24</td>\n",
       "      <td>1979-04-18</td>\n",
       "      <td>None</td>\n",
       "      <td>Homme</td>\n",
       "      <td>Tours</td>\n",
       "    </tr>\n",
       "    <tr>\n",
       "      <th>1</th>\n",
       "      <td>4</td>\n",
       "      <td>Didi</td>\n",
       "      <td>Lele</td>\n",
       "      <td>1958-05-19</td>\n",
       "      <td>1979-04-18</td>\n",
       "      <td>None</td>\n",
       "      <td>Homme</td>\n",
       "      <td>Bourges</td>\n",
       "    </tr>\n",
       "    <tr>\n",
       "      <th>2</th>\n",
       "      <td>1</td>\n",
       "      <td>Fifi</td>\n",
       "      <td>Lulu</td>\n",
       "      <td>1992-12-11</td>\n",
       "      <td>2021-01-02</td>\n",
       "      <td>None</td>\n",
       "      <td>Femme</td>\n",
       "      <td>Blois</td>\n",
       "    </tr>\n",
       "    <tr>\n",
       "      <th>3</th>\n",
       "      <td>3</td>\n",
       "      <td>Gigi</td>\n",
       "      <td>Lala</td>\n",
       "      <td>1964-09-07</td>\n",
       "      <td>1997-07-30</td>\n",
       "      <td>None</td>\n",
       "      <td>Homme</td>\n",
       "      <td>Orléans</td>\n",
       "    </tr>\n",
       "    <tr>\n",
       "      <th>4</th>\n",
       "      <td>6</td>\n",
       "      <td>Mama</td>\n",
       "      <td>Didi</td>\n",
       "      <td>1975-02-28</td>\n",
       "      <td>2000-10-08</td>\n",
       "      <td>None</td>\n",
       "      <td>Homme</td>\n",
       "      <td>Orléans</td>\n",
       "    </tr>\n",
       "    <tr>\n",
       "      <th>5</th>\n",
       "      <td>10</td>\n",
       "      <td>Mimi</td>\n",
       "      <td>Dodo</td>\n",
       "      <td>1965-04-19</td>\n",
       "      <td>2002-09-23</td>\n",
       "      <td>2018-05-21</td>\n",
       "      <td>Homme</td>\n",
       "      <td>Blois</td>\n",
       "    </tr>\n",
       "    <tr>\n",
       "      <th>6</th>\n",
       "      <td>5</td>\n",
       "      <td>Momo</td>\n",
       "      <td>Dudu</td>\n",
       "      <td>1998-08-07</td>\n",
       "      <td>2018-07-15</td>\n",
       "      <td>None</td>\n",
       "      <td>Femme</td>\n",
       "      <td>Bourges</td>\n",
       "    </tr>\n",
       "    <tr>\n",
       "      <th>7</th>\n",
       "      <td>7</td>\n",
       "      <td>Mumu</td>\n",
       "      <td>Jiji</td>\n",
       "      <td>1979-04-18</td>\n",
       "      <td>1999-04-18</td>\n",
       "      <td>None</td>\n",
       "      <td>Femme</td>\n",
       "      <td>Bourges</td>\n",
       "    </tr>\n",
       "    <tr>\n",
       "      <th>8</th>\n",
       "      <td>2</td>\n",
       "      <td>Titi</td>\n",
       "      <td>Lolo</td>\n",
       "      <td>1990-03-22</td>\n",
       "      <td>2020-05-05</td>\n",
       "      <td>None</td>\n",
       "      <td>Homme</td>\n",
       "      <td>Tours</td>\n",
       "    </tr>\n",
       "  </tbody>\n",
       "</table>\n",
       "</div>"
      ],
      "text/plain": [
       "   id_em   nom prenom date_naissance date_entree date_sortie  genre     site\n",
       "0      8  Bibi   Tutu     1957-07-24  1979-04-18        None  Homme    Tours\n",
       "1      4  Didi   Lele     1958-05-19  1979-04-18        None  Homme  Bourges\n",
       "2      1  Fifi   Lulu     1992-12-11  2021-01-02        None  Femme    Blois\n",
       "3      3  Gigi   Lala     1964-09-07  1997-07-30        None  Homme  Orléans\n",
       "4      6  Mama   Didi     1975-02-28  2000-10-08        None  Homme  Orléans\n",
       "5     10  Mimi   Dodo     1965-04-19  2002-09-23  2018-05-21  Homme    Blois\n",
       "6      5  Momo   Dudu     1998-08-07  2018-07-15        None  Femme  Bourges\n",
       "7      7  Mumu   Jiji     1979-04-18  1999-04-18        None  Femme  Bourges\n",
       "8      2  Titi   Lolo     1990-03-22  2020-05-05        None  Homme    Tours"
      ]
     },
     "execution_count": 50,
     "metadata": {},
     "output_type": "execute_result"
    }
   ],
   "source": [
    "mes_colonnes = [\"id_em\", \"nom\", \"prenom\", \"date_naissance\", \"date_entree\", \"date_sortie\", \"genre\", \"site\"]\n",
    "\n",
    "df = pd.DataFrame(question_8(), columns = mes_colonnes)\n",
    "df"
   ]
  },
  {
   "cell_type": "code",
   "execution_count": 52,
   "metadata": {},
   "outputs": [
    {
     "data": {
      "text/plain": [
       "array([ 8,  4,  1,  3,  6, 10,  5,  7,  2], dtype=int64)"
      ]
     },
     "execution_count": 52,
     "metadata": {},
     "output_type": "execute_result"
    }
   ],
   "source": [
    "df[\"id_em\"].values\n"
   ]
  },
  {
   "cell_type": "code",
   "execution_count": 53,
   "metadata": {},
   "outputs": [
    {
     "data": {
      "text/html": [
       "<div>\n",
       "<style scoped>\n",
       "    .dataframe tbody tr th:only-of-type {\n",
       "        vertical-align: middle;\n",
       "    }\n",
       "\n",
       "    .dataframe tbody tr th {\n",
       "        vertical-align: top;\n",
       "    }\n",
       "\n",
       "    .dataframe thead th {\n",
       "        text-align: right;\n",
       "    }\n",
       "</style>\n",
       "<table border=\"1\" class=\"dataframe\">\n",
       "  <thead>\n",
       "    <tr style=\"text-align: right;\">\n",
       "      <th></th>\n",
       "      <th>nom</th>\n",
       "      <th>prenom</th>\n",
       "      <th>date_naissance</th>\n",
       "      <th>date_entree</th>\n",
       "      <th>date_sortie</th>\n",
       "      <th>genre</th>\n",
       "      <th>site</th>\n",
       "    </tr>\n",
       "    <tr>\n",
       "      <th>id_em</th>\n",
       "      <th></th>\n",
       "      <th></th>\n",
       "      <th></th>\n",
       "      <th></th>\n",
       "      <th></th>\n",
       "      <th></th>\n",
       "      <th></th>\n",
       "    </tr>\n",
       "  </thead>\n",
       "  <tbody>\n",
       "    <tr>\n",
       "      <th>8</th>\n",
       "      <td>Bibi</td>\n",
       "      <td>Tutu</td>\n",
       "      <td>1957-07-24</td>\n",
       "      <td>1979-04-18</td>\n",
       "      <td>None</td>\n",
       "      <td>Homme</td>\n",
       "      <td>Tours</td>\n",
       "    </tr>\n",
       "    <tr>\n",
       "      <th>4</th>\n",
       "      <td>Didi</td>\n",
       "      <td>Lele</td>\n",
       "      <td>1958-05-19</td>\n",
       "      <td>1979-04-18</td>\n",
       "      <td>None</td>\n",
       "      <td>Homme</td>\n",
       "      <td>Bourges</td>\n",
       "    </tr>\n",
       "    <tr>\n",
       "      <th>1</th>\n",
       "      <td>Fifi</td>\n",
       "      <td>Lulu</td>\n",
       "      <td>1992-12-11</td>\n",
       "      <td>2021-01-02</td>\n",
       "      <td>None</td>\n",
       "      <td>Femme</td>\n",
       "      <td>Blois</td>\n",
       "    </tr>\n",
       "    <tr>\n",
       "      <th>3</th>\n",
       "      <td>Gigi</td>\n",
       "      <td>Lala</td>\n",
       "      <td>1964-09-07</td>\n",
       "      <td>1997-07-30</td>\n",
       "      <td>None</td>\n",
       "      <td>Homme</td>\n",
       "      <td>Orléans</td>\n",
       "    </tr>\n",
       "    <tr>\n",
       "      <th>6</th>\n",
       "      <td>Mama</td>\n",
       "      <td>Didi</td>\n",
       "      <td>1975-02-28</td>\n",
       "      <td>2000-10-08</td>\n",
       "      <td>None</td>\n",
       "      <td>Homme</td>\n",
       "      <td>Orléans</td>\n",
       "    </tr>\n",
       "    <tr>\n",
       "      <th>10</th>\n",
       "      <td>Mimi</td>\n",
       "      <td>Dodo</td>\n",
       "      <td>1965-04-19</td>\n",
       "      <td>2002-09-23</td>\n",
       "      <td>2018-05-21</td>\n",
       "      <td>Homme</td>\n",
       "      <td>Blois</td>\n",
       "    </tr>\n",
       "    <tr>\n",
       "      <th>5</th>\n",
       "      <td>Momo</td>\n",
       "      <td>Dudu</td>\n",
       "      <td>1998-08-07</td>\n",
       "      <td>2018-07-15</td>\n",
       "      <td>None</td>\n",
       "      <td>Femme</td>\n",
       "      <td>Bourges</td>\n",
       "    </tr>\n",
       "    <tr>\n",
       "      <th>7</th>\n",
       "      <td>Mumu</td>\n",
       "      <td>Jiji</td>\n",
       "      <td>1979-04-18</td>\n",
       "      <td>1999-04-18</td>\n",
       "      <td>None</td>\n",
       "      <td>Femme</td>\n",
       "      <td>Bourges</td>\n",
       "    </tr>\n",
       "    <tr>\n",
       "      <th>2</th>\n",
       "      <td>Titi</td>\n",
       "      <td>Lolo</td>\n",
       "      <td>1990-03-22</td>\n",
       "      <td>2020-05-05</td>\n",
       "      <td>None</td>\n",
       "      <td>Homme</td>\n",
       "      <td>Tours</td>\n",
       "    </tr>\n",
       "  </tbody>\n",
       "</table>\n",
       "</div>"
      ],
      "text/plain": [
       "        nom prenom date_naissance date_entree date_sortie  genre     site\n",
       "id_em                                                                    \n",
       "8      Bibi   Tutu     1957-07-24  1979-04-18        None  Homme    Tours\n",
       "4      Didi   Lele     1958-05-19  1979-04-18        None  Homme  Bourges\n",
       "1      Fifi   Lulu     1992-12-11  2021-01-02        None  Femme    Blois\n",
       "3      Gigi   Lala     1964-09-07  1997-07-30        None  Homme  Orléans\n",
       "6      Mama   Didi     1975-02-28  2000-10-08        None  Homme  Orléans\n",
       "10     Mimi   Dodo     1965-04-19  2002-09-23  2018-05-21  Homme    Blois\n",
       "5      Momo   Dudu     1998-08-07  2018-07-15        None  Femme  Bourges\n",
       "7      Mumu   Jiji     1979-04-18  1999-04-18        None  Femme  Bourges\n",
       "2      Titi   Lolo     1990-03-22  2020-05-05        None  Homme    Tours"
      ]
     },
     "execution_count": 53,
     "metadata": {},
     "output_type": "execute_result"
    }
   ],
   "source": [
    "df.set_index(\"id_em\", inplace= True)\n",
    "df"
   ]
  }
 ],
 "metadata": {
  "kernelspec": {
   "display_name": "venv",
   "language": "python",
   "name": "python3"
  },
  "language_info": {
   "codemirror_mode": {
    "name": "ipython",
    "version": 3
   },
   "file_extension": ".py",
   "mimetype": "text/x-python",
   "name": "python",
   "nbconvert_exporter": "python",
   "pygments_lexer": "ipython3",
   "version": "3.11.4"
  },
  "orig_nbformat": 4
 },
 "nbformat": 4,
 "nbformat_minor": 2
}
